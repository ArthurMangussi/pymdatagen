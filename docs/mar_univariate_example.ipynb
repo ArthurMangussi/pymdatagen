{
 "cells": [
  {
   "cell_type": "markdown",
   "metadata": {},
   "source": [
    "A basic example of generate artificial missing data under Missing at Random (MAR) mechanism with mdatagen library with the Iris dataset from scikit-learn. The observed feature is \"petal length\" and the feature that will receive the missing values is \"petal width\". The simulated missing rate is 12%. The method to choose missing values is random."
   ]
  },
  {
   "cell_type": "code",
   "execution_count": 1,
   "metadata": {},
   "outputs": [
    {
     "name": "stdout",
     "output_type": "stream",
     "text": [
      "sepal length (cm)     0\n",
      "sepal width (cm)      0\n",
      "petal length (cm)    38\n",
      "petal width (cm)      0\n",
      "target                0\n",
      "dtype: int64\n"
     ]
    }
   ],
   "source": [
    "# Import the libraries\n",
    "import pandas as pd\n",
    "from sklearn.datasets import load_iris\n",
    "from mdatagen.univariate.uMAR import uMAR\n",
    "\n",
    "# Load the data\n",
    "iris = load_iris()\n",
    "iris_df = pd.DataFrame(data=iris.data, columns=iris.feature_names)\n",
    "\n",
    "X = iris_df.copy()   # Features\n",
    "y = iris.target    # Label values\n",
    "\n",
    "# Create a instance with missing rate equal to 12% in dataset under MAR mechanism\n",
    "generator = uMAR(X=X, \n",
    "                 y=y, \n",
    "                 missing_rate=12, \n",
    "                 x_miss='petal width (cm)',\n",
    "                 x_obs='petal length (cm)')\n",
    "\n",
    "# Generate the missing data under MNAR mechanism\n",
    "generate_data = generator.random()\n",
    "print(generate_data.isna().sum())"
   ]
  },
  {
   "cell_type": "code",
   "execution_count": null,
   "metadata": {},
   "outputs": [],
   "source": []
  }
 ],
 "metadata": {
  "kernelspec": {
   "display_name": "Python 3",
   "language": "python",
   "name": "python3"
  },
  "language_info": {
   "codemirror_mode": {
    "name": "ipython",
    "version": 3
   },
   "file_extension": ".py",
   "mimetype": "text/x-python",
   "name": "python",
   "nbconvert_exporter": "python",
   "pygments_lexer": "ipython3",
   "version": "3.11.0"
  }
 },
 "nbformat": 4,
 "nbformat_minor": 2
}
