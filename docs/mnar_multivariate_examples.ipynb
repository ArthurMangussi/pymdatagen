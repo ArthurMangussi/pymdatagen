{
 "cells": [
  {
   "cell_type": "markdown",
   "metadata": {},
   "source": [
    "## MNAR mechanism\n",
    "\n",
    "This Jupyter Notebook provides various strategies to generate artificial missing data under MNAR mechanism in multivariate scenario. \n",
    "Our example is using the Breast Cancer Wiscosin dataset from Scikit-learn.\n",
    "\n",
    "The approaches covered in this Jupyter Notebook are:\n",
    "- Random\n",
    "- Correlated\n",
    "- Missigness Based on Own Values (MBOV) using a randomess to choose miss locations in each feature\n",
    "- Missingness Based on Intra-Relation (MBIR)"
   ]
  },
  {
   "cell_type": "code",
   "execution_count": 2,
   "metadata": {},
   "outputs": [],
   "source": [
    "# Import the libraries\n",
    "import pandas as pd\n",
    "from sklearn.datasets import load_breast_cancer\n",
    "\n",
    "from mdatagen.multivariate.mMNAR import mMNAR\n",
    "\n",
    "# Load the data\n",
    "wiscosin = load_breast_cancer()\n",
    "wiscosin_df = pd.DataFrame(data=wiscosin.data, columns=wiscosin.feature_names)\n",
    "\n",
    "X = wiscosin_df.copy()   # Features\n",
    "y = wiscosin.target    # Label values"
   ]
  },
  {
   "cell_type": "markdown",
   "metadata": {},
   "source": [
    "- Random"
   ]
  },
  {
   "cell_type": "code",
   "execution_count": 3,
   "metadata": {},
   "outputs": [
    {
     "name": "stdout",
     "output_type": "stream",
     "text": [
      "Global Missing rate = 0.19\n",
      "\n",
      "\n",
      "Columns that receive the missingness:\n",
      "mean smoothness\n",
      "mean compactness\n",
      "radius error\n",
      "worst texture\n",
      "worst area\n",
      "worst concave points\n",
      "worst symmetry\n",
      "worst fractal dimension\n"
     ]
    }
   ],
   "source": [
    "# Create a instance for MNAR mechanism\n",
    "generator = mMNAR(X=X, \n",
    "                  y=y,\n",
    "                  n_xmiss = 8, # 8 feature that will receive the missingness randomly\n",
    "                  threshold = 1) # highest values\n",
    "\n",
    "# Generate the missing data under MNAR mechanism up to 20% missing rate\n",
    "generate_data = generator.random(missing_rate=20, \n",
    "                                 deterministic=True) # Missingness based on own values\n",
    "\n",
    "qtd_miss = sum(generate_data.isna().sum())\n",
    "print(f\"Global Missing rate = {round(qtd_miss/(generate_data.shape[0]*generate_data.shape[1]),2)}\")\n",
    "print(\"\\n\")\n",
    "print(\"Columns that receive the missingness:\")\n",
    "for col in generate_data.columns:\n",
    "    if generate_data[col].isna().sum() > 0:\n",
    "        print(col)\n",
    "    else:\n",
    "        pass\n"
   ]
  },
  {
   "cell_type": "markdown",
   "metadata": {},
   "source": [
    "- Correlated "
   ]
  },
  {
   "cell_type": "code",
   "execution_count": 4,
   "metadata": {},
   "outputs": [
    {
     "ename": "KeyError",
     "evalue": "'target'",
     "output_type": "error",
     "traceback": [
      "\u001b[1;31m---------------------------------------------------------------------------\u001b[0m",
      "\u001b[1;31mKeyError\u001b[0m                                  Traceback (most recent call last)",
      "File \u001b[1;32mD:\\Lib\\site-packages\\pandas\\core\\indexes\\base.py:3805\u001b[0m, in \u001b[0;36mIndex.get_loc\u001b[1;34m(self, key)\u001b[0m\n\u001b[0;32m   3804\u001b[0m \u001b[38;5;28;01mtry\u001b[39;00m:\n\u001b[1;32m-> 3805\u001b[0m     \u001b[38;5;28;01mreturn\u001b[39;00m \u001b[38;5;28mself\u001b[39m\u001b[38;5;241m.\u001b[39m_engine\u001b[38;5;241m.\u001b[39mget_loc(casted_key)\n\u001b[0;32m   3806\u001b[0m \u001b[38;5;28;01mexcept\u001b[39;00m \u001b[38;5;167;01mKeyError\u001b[39;00m \u001b[38;5;28;01mas\u001b[39;00m err:\n",
      "File \u001b[1;32mindex.pyx:167\u001b[0m, in \u001b[0;36mpandas._libs.index.IndexEngine.get_loc\u001b[1;34m()\u001b[0m\n",
      "File \u001b[1;32mindex.pyx:196\u001b[0m, in \u001b[0;36mpandas._libs.index.IndexEngine.get_loc\u001b[1;34m()\u001b[0m\n",
      "File \u001b[1;32mpandas\\\\_libs\\\\hashtable_class_helper.pxi:7081\u001b[0m, in \u001b[0;36mpandas._libs.hashtable.PyObjectHashTable.get_item\u001b[1;34m()\u001b[0m\n",
      "File \u001b[1;32mpandas\\\\_libs\\\\hashtable_class_helper.pxi:7089\u001b[0m, in \u001b[0;36mpandas._libs.hashtable.PyObjectHashTable.get_item\u001b[1;34m()\u001b[0m\n",
      "\u001b[1;31mKeyError\u001b[0m: 'target'",
      "\nThe above exception was the direct cause of the following exception:\n",
      "\u001b[1;31mKeyError\u001b[0m                                  Traceback (most recent call last)",
      "Cell \u001b[1;32mIn[4], line 7\u001b[0m\n\u001b[0;32m      2\u001b[0m generator \u001b[38;5;241m=\u001b[39m mMNAR(X\u001b[38;5;241m=\u001b[39mX, \n\u001b[0;32m      3\u001b[0m                   y\u001b[38;5;241m=\u001b[39my,\n\u001b[0;32m      4\u001b[0m                   threshold \u001b[38;5;241m=\u001b[39m \u001b[38;5;241m1\u001b[39m) \u001b[38;5;66;03m# highest values\u001b[39;00m\n\u001b[0;32m      6\u001b[0m \u001b[38;5;66;03m# Generate the missing data under MNAR mechanism up to 20% missing rate\u001b[39;00m\n\u001b[1;32m----> 7\u001b[0m generate_data \u001b[38;5;241m=\u001b[39m generator\u001b[38;5;241m.\u001b[39mcorrelated(missing_rate\u001b[38;5;241m=\u001b[39m\u001b[38;5;241m20\u001b[39m, \n\u001b[0;32m      8\u001b[0m                                  deterministic\u001b[38;5;241m=\u001b[39m\u001b[38;5;28;01mTrue\u001b[39;00m) \u001b[38;5;66;03m# Missingness based on own values\u001b[39;00m\n\u001b[0;32m     10\u001b[0m qtd_miss \u001b[38;5;241m=\u001b[39m \u001b[38;5;28msum\u001b[39m(generate_data\u001b[38;5;241m.\u001b[39misna()\u001b[38;5;241m.\u001b[39msum())\n\u001b[0;32m     11\u001b[0m \u001b[38;5;28mprint\u001b[39m(\u001b[38;5;124mf\u001b[39m\u001b[38;5;124m\"\u001b[39m\u001b[38;5;124mGlobal Missing rate = \u001b[39m\u001b[38;5;132;01m{\u001b[39;00m\u001b[38;5;28mround\u001b[39m(qtd_miss\u001b[38;5;241m/\u001b[39m(generate_data\u001b[38;5;241m.\u001b[39mshape[\u001b[38;5;241m0\u001b[39m]\u001b[38;5;241m*\u001b[39mgenerate_data\u001b[38;5;241m.\u001b[39mshape[\u001b[38;5;241m1\u001b[39m]),\u001b[38;5;241m2\u001b[39m)\u001b[38;5;132;01m}\u001b[39;00m\u001b[38;5;124m\"\u001b[39m)\n",
      "File \u001b[1;32mD:\\Lib\\site-packages\\mdatagen\\multivariate\\mMNAR.py:174\u001b[0m, in \u001b[0;36mmMNAR.correlated\u001b[1;34m(self, missing_rate, deterministic)\u001b[0m\n\u001b[0;32m    172\u001b[0m     cutK \u001b[38;5;241m=\u001b[39m \u001b[38;5;241m2\u001b[39m \u001b[38;5;241m*\u001b[39m mr\n\u001b[0;32m    173\u001b[0m     \u001b[38;5;66;03m# Find the feature most correlated with the target\u001b[39;00m\n\u001b[1;32m--> 174\u001b[0m     x_miss \u001b[38;5;241m=\u001b[39m FeatureChoice\u001b[38;5;241m.\u001b[39m_find_most_correlated_feature_even(\n\u001b[0;32m    175\u001b[0m         correlation_matrix, pair\n\u001b[0;32m    176\u001b[0m     )\n\u001b[0;32m    178\u001b[0m \u001b[38;5;28;01melse\u001b[39;00m:\n\u001b[0;32m    179\u001b[0m     cutK \u001b[38;5;241m=\u001b[39m \u001b[38;5;241m1.5\u001b[39m \u001b[38;5;241m*\u001b[39m mr\n",
      "File \u001b[1;32mD:\\Lib\\site-packages\\mdatagen\\utils\\feature_choice.py:131\u001b[0m, in \u001b[0;36mFeatureChoice._find_most_correlated_feature_even\u001b[1;34m(correlation_matrix, pair_features)\u001b[0m\n\u001b[0;32m    126\u001b[0m \u001b[38;5;129m@staticmethod\u001b[39m\n\u001b[0;32m    127\u001b[0m \u001b[38;5;28;01mdef\u001b[39;00m \u001b[38;5;21m_find_most_correlated_feature_even\u001b[39m(\n\u001b[0;32m    128\u001b[0m     correlation_matrix:pd\u001b[38;5;241m.\u001b[39mDataFrame, pair_features:\u001b[38;5;28mlist\u001b[39m[\u001b[38;5;28mtuple\u001b[39m]\n\u001b[0;32m    129\u001b[0m ):\n\u001b[1;32m--> 131\u001b[0m     corr_0 \u001b[38;5;241m=\u001b[39m \u001b[38;5;28mabs\u001b[39m(correlation_matrix[\u001b[38;5;124m'\u001b[39m\u001b[38;5;124mtarget\u001b[39m\u001b[38;5;124m'\u001b[39m][pair_features[\u001b[38;5;241m0\u001b[39m]])\n\u001b[0;32m    132\u001b[0m     corr_1 \u001b[38;5;241m=\u001b[39m \u001b[38;5;28mabs\u001b[39m(correlation_matrix[\u001b[38;5;124m'\u001b[39m\u001b[38;5;124mtarget\u001b[39m\u001b[38;5;124m'\u001b[39m][pair_features[\u001b[38;5;241m1\u001b[39m]])\n\u001b[0;32m    134\u001b[0m     \u001b[38;5;28;01mreturn\u001b[39;00m pair_features[\u001b[38;5;241m0\u001b[39m] \u001b[38;5;28;01mif\u001b[39;00m corr_0 \u001b[38;5;241m>\u001b[39m corr_1 \u001b[38;5;28;01melse\u001b[39;00m pair_features[\u001b[38;5;241m1\u001b[39m]\n",
      "File \u001b[1;32mD:\\Lib\\site-packages\\pandas\\core\\frame.py:4102\u001b[0m, in \u001b[0;36mDataFrame.__getitem__\u001b[1;34m(self, key)\u001b[0m\n\u001b[0;32m   4100\u001b[0m \u001b[38;5;28;01mif\u001b[39;00m \u001b[38;5;28mself\u001b[39m\u001b[38;5;241m.\u001b[39mcolumns\u001b[38;5;241m.\u001b[39mnlevels \u001b[38;5;241m>\u001b[39m \u001b[38;5;241m1\u001b[39m:\n\u001b[0;32m   4101\u001b[0m     \u001b[38;5;28;01mreturn\u001b[39;00m \u001b[38;5;28mself\u001b[39m\u001b[38;5;241m.\u001b[39m_getitem_multilevel(key)\n\u001b[1;32m-> 4102\u001b[0m indexer \u001b[38;5;241m=\u001b[39m \u001b[38;5;28mself\u001b[39m\u001b[38;5;241m.\u001b[39mcolumns\u001b[38;5;241m.\u001b[39mget_loc(key)\n\u001b[0;32m   4103\u001b[0m \u001b[38;5;28;01mif\u001b[39;00m is_integer(indexer):\n\u001b[0;32m   4104\u001b[0m     indexer \u001b[38;5;241m=\u001b[39m [indexer]\n",
      "File \u001b[1;32mD:\\Lib\\site-packages\\pandas\\core\\indexes\\base.py:3812\u001b[0m, in \u001b[0;36mIndex.get_loc\u001b[1;34m(self, key)\u001b[0m\n\u001b[0;32m   3807\u001b[0m     \u001b[38;5;28;01mif\u001b[39;00m \u001b[38;5;28misinstance\u001b[39m(casted_key, \u001b[38;5;28mslice\u001b[39m) \u001b[38;5;129;01mor\u001b[39;00m (\n\u001b[0;32m   3808\u001b[0m         \u001b[38;5;28misinstance\u001b[39m(casted_key, abc\u001b[38;5;241m.\u001b[39mIterable)\n\u001b[0;32m   3809\u001b[0m         \u001b[38;5;129;01mand\u001b[39;00m \u001b[38;5;28many\u001b[39m(\u001b[38;5;28misinstance\u001b[39m(x, \u001b[38;5;28mslice\u001b[39m) \u001b[38;5;28;01mfor\u001b[39;00m x \u001b[38;5;129;01min\u001b[39;00m casted_key)\n\u001b[0;32m   3810\u001b[0m     ):\n\u001b[0;32m   3811\u001b[0m         \u001b[38;5;28;01mraise\u001b[39;00m InvalidIndexError(key)\n\u001b[1;32m-> 3812\u001b[0m     \u001b[38;5;28;01mraise\u001b[39;00m \u001b[38;5;167;01mKeyError\u001b[39;00m(key) \u001b[38;5;28;01mfrom\u001b[39;00m \u001b[38;5;21;01merr\u001b[39;00m\n\u001b[0;32m   3813\u001b[0m \u001b[38;5;28;01mexcept\u001b[39;00m \u001b[38;5;167;01mTypeError\u001b[39;00m:\n\u001b[0;32m   3814\u001b[0m     \u001b[38;5;66;03m# If we have a listlike key, _check_indexing_error will raise\u001b[39;00m\n\u001b[0;32m   3815\u001b[0m     \u001b[38;5;66;03m#  InvalidIndexError. Otherwise we fall through and re-raise\u001b[39;00m\n\u001b[0;32m   3816\u001b[0m     \u001b[38;5;66;03m#  the TypeError.\u001b[39;00m\n\u001b[0;32m   3817\u001b[0m     \u001b[38;5;28mself\u001b[39m\u001b[38;5;241m.\u001b[39m_check_indexing_error(key)\n",
      "\u001b[1;31mKeyError\u001b[0m: 'target'"
     ]
    }
   ],
   "source": [
    "# Create a instance for MNAR mechanism\n",
    "generator = mMNAR(X=X, \n",
    "                  y=y,\n",
    "                  threshold = 1) # highest values\n",
    "\n",
    "# Generate the missing data under MNAR mechanism up to 20% missing rate\n",
    "generate_data = generator.correlated(missing_rate=20, \n",
    "                                 deterministic=True) # Missingness based on own values\n",
    "\n",
    "qtd_miss = sum(generate_data.isna().sum())\n",
    "print(f\"Global Missing rate = {round(qtd_miss/(generate_data.shape[0]*generate_data.shape[1]),2)}\")\n",
    "print(\"\\n\")\n",
    "print(\"Columns that receive the missingness:\")\n",
    "for col in generate_data.columns:\n",
    "    if generate_data[col].isna().sum() > 0:\n",
    "        print(col)\n",
    "    else:\n",
    "        pass\n"
   ]
  },
  {
   "cell_type": "markdown",
   "metadata": {},
   "source": [
    "- Missigness Based on Own Values (MBOV) using a randomess to choose miss locations in each feature -> MBOV_randomness"
   ]
  },
  {
   "cell_type": "code",
   "execution_count": 37,
   "metadata": {},
   "outputs": [
    {
     "name": "stdout",
     "output_type": "stream",
     "text": [
      "Global Missing rate = 0.19\n",
      "\n",
      "\n",
      "Columns that receive the missingness:\n",
      "mean radius\n",
      "texture error\n",
      "area error\n"
     ]
    }
   ],
   "source": [
    "# Create a instance for MNAR mechanism\n",
    "generator = mMNAR(X=X, \n",
    "                  y=y,\n",
    "                  ) \n",
    "\n",
    "list_to_gen_miss = [\"mean radius\",\"texture error\", \"area error\"]\n",
    "\n",
    "# Generate the missing data under MNAR mechanism up to 20% missing rate\n",
    "generate_data = generator.MBOV_randomness(missing_rate=20, \n",
    "                                          columns=list_to_gen_miss,\n",
    "                                          randomness=0.3)\n",
    "\n",
    "                                        \n",
    "qtd_miss = sum(generate_data.isna().sum())\n",
    "print(f\"Global Missing rate = {round(qtd_miss / (len(list_to_gen_miss) * generate_data.shape[0]),2)}\")\n",
    "print(\"\\n\")\n",
    "print(\"Columns that receive the missingness:\")\n",
    "for col in generate_data.columns:\n",
    "    if generate_data[col].isna().sum() > 0:\n",
    "        print(col)\n",
    "    else:\n",
    "        pass"
   ]
  },
  {
   "cell_type": "markdown",
   "metadata": {},
   "source": [
    "- Missingness Based on Intra-Relation (MBIR)"
   ]
  },
  {
   "cell_type": "code",
   "execution_count": 38,
   "metadata": {},
   "outputs": [
    {
     "name": "stdout",
     "output_type": "stream",
     "text": [
      "Global Missing rate = 0.2\n",
      "\n",
      "\n",
      "Columns that receive the missingness:\n",
      "mean radius\n",
      "texture error\n",
      "area error\n"
     ]
    }
   ],
   "source": [
    "# Create a instance for MNAR mechanism\n",
    "generator = mMNAR(X=X, \n",
    "                  y=y,\n",
    "                  ) \n",
    "\n",
    "list_to_gen_miss = [\"mean radius\",\"texture error\", \"area error\"]\n",
    "\n",
    "# Generate the missing data under MNAR mechanism up to 20% missing rate\n",
    "generate_data = generator.MBIR(missing_rate=20, \n",
    "                               columns=list_to_gen_miss,\n",
    "                               statistical_method=\"Mann-Whitney\")\n",
    "                   \n",
    "qtd_miss = sum(generate_data.isna().sum())\n",
    "print(f\"Global Missing rate = {round(qtd_miss / (len(list_to_gen_miss) * generate_data.shape[0]),2)}\")\n",
    "print(\"\\n\")\n",
    "print(\"Columns that receive the missingness:\")\n",
    "for col in generate_data.columns:\n",
    "    if generate_data[col].isna().sum() > 0:\n",
    "        print(col)\n",
    "    else:\n",
    "        pass"
   ]
  }
 ],
 "metadata": {
  "kernelspec": {
   "display_name": "Python 3",
   "language": "python",
   "name": "python3"
  },
  "language_info": {
   "codemirror_mode": {
    "name": "ipython",
    "version": 3
   },
   "file_extension": ".py",
   "mimetype": "text/x-python",
   "name": "python",
   "nbconvert_exporter": "python",
   "pygments_lexer": "ipython3",
   "version": "3.11.0"
  }
 },
 "nbformat": 4,
 "nbformat_minor": 2
}
