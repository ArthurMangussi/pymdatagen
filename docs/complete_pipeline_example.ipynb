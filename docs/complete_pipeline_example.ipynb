{
 "cells": [
  {
   "cell_type": "markdown",
   "metadata": {},
   "source": [
    "This Jupyter Notebook provide a complete example of classical experimental setup for Missing Data studies. The main four steps are (Santos et al. (2019)):\n",
    "- Data Collection: We used the Breast Cancer Wiscosin from Scikit-learn, which is complete (i.e., without missing values)\n",
    "- Missing Data Generation: We selected to generate artificial missing data under MNAR mechanism\n",
    "- Imputation: We performed the imputation by Multiple Imputation by Chained Equations (MICE)\n",
    "- Evaluation: We evaluated the imputation quality with Mean Squared Error (MSE)\n"
   ]
  },
  {
   "cell_type": "markdown",
   "metadata": {},
   "source": [
    "### Import the libraries"
   ]
  },
  {
   "cell_type": "code",
   "execution_count": null,
   "metadata": {},
   "outputs": [],
   "source": [
    "import pandas as pd\n",
    "from sklearn.datasets import load_breast_cancer\n",
    "from sklearn.experimental import enable_iterative_imputer\n",
    "from sklearn.impute import IterativeImputer\n",
    "\n",
    "from mdatagen.multivariate.mMNAR import mMNAR\n",
    "from mdatagen.metrics import EvaluateImputation\n",
    "from mdatagen.plots import PlotMissingData"
   ]
  },
  {
   "cell_type": "markdown",
   "metadata": {},
   "source": [
    "### Step 1: Data Collection"
   ]
  },
  {
   "cell_type": "code",
   "execution_count": null,
   "metadata": {},
   "outputs": [],
   "source": [
    "# Load the data\n",
    "wiscosin = load_breast_cancer()\n",
    "wiscosin_df = pd.DataFrame(data=wiscosin.data, columns=wiscosin.feature_names)\n",
    "\n",
    "X = wiscosin_df.copy()   # Features\n",
    "y = wiscosin.target    # Label values"
   ]
  },
  {
   "cell_type": "markdown",
   "metadata": {},
   "source": [
    "### Step 2: Missing Data Generation"
   ]
  },
  {
   "cell_type": "code",
   "execution_count": null,
   "metadata": {},
   "outputs": [],
   "source": [
    "# Create a instance with missing rate equal to 20% in dataset under MNAR mechanism\n",
    "generator = mMNAR(X=X, y=y)\n",
    "\n",
    "# Generate the missing data under MNAR mechanism\n",
    "generate_MDdata = generator.random(missing_rate=20,\n",
    "                                   deterministic=True)"
   ]
  },
  {
   "cell_type": "code",
   "execution_count": null,
   "metadata": {},
   "outputs": [],
   "source": [
    "# Visualize the missingness \n",
    "miss_plot = PlotMissingData(data_missing=generate_MDdata, \n",
    "                            data_original=wiscosin_df)\n",
    "\n",
    "miss_plot.visualize_miss(\"normal\")"
   ]
  },
  {
   "cell_type": "markdown",
   "metadata": {},
   "source": [
    "### Step 3: Imputation"
   ]
  },
  {
   "cell_type": "code",
   "execution_count": null,
   "metadata": {},
   "outputs": [],
   "source": [
    "# Initialize the MICE imputer\n",
    "imputer = IterativeImputer(max_iter=100)\n",
    "\n",
    "# Training the Imputer\n",
    "imputer.fit(generate_MDdata)\n",
    "\n",
    "col = X.columns.to_list() # Columns names in result dataframe\n",
    "col.append(\"target\")\n",
    "\n",
    "df_imputate = pd.DataFrame(\n",
    "    imputer.transform(generate_MDdata), columns = pd.Index(col)\n",
    ")\n"
   ]
  },
  {
   "cell_type": "markdown",
   "metadata": {},
   "source": [
    "### Step 4: Evalutation"
   ]
  },
  {
   "cell_type": "code",
   "execution_count": null,
   "metadata": {},
   "outputs": [],
   "source": [
    "eval_metric = EvaluateImputation(data_imputed=df_imputate,\n",
    "                                    data_original=X,\n",
    "                                    metric=\"mean_squared_error\")\n",
    "eval_metric.show()"
   ]
  }
 ],
 "metadata": {
  "kernelspec": {
   "display_name": "Python 3",
   "language": "python",
   "name": "python3"
  },
  "language_info": {
   "codemirror_mode": {
    "name": "ipython",
    "version": 3
   },
   "file_extension": ".py",
   "mimetype": "text/x-python",
   "name": "python",
   "nbconvert_exporter": "python",
   "pygments_lexer": "ipython3",
   "version": "3.11.0"
  }
 },
 "nbformat": 4,
 "nbformat_minor": 2
}
