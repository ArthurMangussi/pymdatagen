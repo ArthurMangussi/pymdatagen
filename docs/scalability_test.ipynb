{
 "cells": [
  {
   "cell_type": "markdown",
   "metadata": {},
   "source": [
    "## Testando"
   ]
  },
  {
   "cell_type": "code",
   "execution_count": null,
   "metadata": {},
   "outputs": [],
   "source": [
    "import numpy as np \n",
    "import pmlb\n",
    "from mdatagen.multivariate.mMNAR import mMNAR\n",
    "from time import perf_counter\n",
    "\n",
    "def split_data(data):\n",
    "    df = data.copy()\n",
    "    X = df.drop(columns=[\"target\"])\n",
    "    y = data[\"target\"]\n",
    "\n",
    "    return X,np.array(y)\n",
    "\n",
    "adult_data = pmlb.fetch_data('adult')\n",
    "kddcup = pmlb.fetch_data('kddcup')\n",
    "mushroom = pmlb.fetch_data('mushroom')\n",
    "mfeat_pixel = pmlb.fetch_data('mfeat_pixel')\n",
    "poker  = pmlb.fetch_data('poker')"
   ]
  },
  {
   "cell_type": "code",
   "execution_count": null,
   "metadata": {},
   "outputs": [],
   "source": [
    "X_, y_ = split_data(kddcup)\n",
    "\n",
    "time_init = perf_counter()\n",
    "generator = mMNAR(X=X_, y=y_)\n",
    "gen_md = generator.correlated(missing_rate=45)\n",
    "\n",
    "time_end = perf_counter()\n",
    "print(f\"Tempo: {round(time_end-time_init,4)} s \")"
   ]
  }
 ],
 "metadata": {
  "kernelspec": {
   "display_name": "Python 3",
   "language": "python",
   "name": "python3"
  },
  "language_info": {
   "codemirror_mode": {
    "name": "ipython",
    "version": 3
   },
   "file_extension": ".py",
   "mimetype": "text/x-python",
   "name": "python",
   "nbconvert_exporter": "python",
   "pygments_lexer": "ipython3",
   "version": "3.11.0"
  }
 },
 "nbformat": 4,
 "nbformat_minor": 2
}
