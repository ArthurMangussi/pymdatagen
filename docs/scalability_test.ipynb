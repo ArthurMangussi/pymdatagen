{
 "cells": [
  {
   "cell_type": "markdown",
   "metadata": {},
   "source": [
    "This Jupyter Notebook provides examples of how to apply the **mdatagen** library to large datasets. Here, we used the 'Penn Machine Learning Benchmarks' to fetch the data. We selected small, medium, and large datasets, as described in the table below:\n",
    "\n",
    "| Dataset       | n_instances | n_features | n_binary_features | n_categorical_features | n_continuos_features |\n",
    "|---------------|-------------|------------|--------------------|-------------------------|-----------------------|\n",
    "| mushroom      | 8124        | 22         | 5                  | 16                      | 1                     |\n",
    "| adult         | 48842       | 14         | 1                  | 4                       | 9                     |\n",
    "| kddcup        | 494020      | 41         | 4                  | 9                       | 28                    |\n",
    "| poker         | 1025010     | 10         | 0                  | 5                       | 5                     |\n",
    "| mfeat_pixel   | 2000        | 240        | 0                  | 240                     | 0                     |\n",
    "\n",
    "We selected the MAR multivariate mechanism under median strategy because it represents the worst-case scenario for larger datasets. Moreover, we provided an example to set the number of Threads to parallelize the generation."
   ]
  },
  {
   "cell_type": "code",
   "execution_count": null,
   "metadata": {},
   "outputs": [],
   "source": [
    "# Import the libraries\n",
    "import numpy as np \n",
    "import pmlb\n",
    "from mdatagen.multivariate.mMAR import mMAR\n",
    "from time import perf_counter"
   ]
  },
  {
   "cell_type": "code",
   "execution_count": 3,
   "metadata": {},
   "outputs": [],
   "source": [
    "# Function to help split data\n",
    "def split_data(data):\n",
    "    df = data.copy()\n",
    "    X = df.drop(columns=[\"target\"])\n",
    "    y = data[\"target\"]\n",
    "\n",
    "    return X,np.array(y)\n",
    "\n",
    "# The data from PMLB\n",
    "adult_data = pmlb.fetch_data('adult')\n",
    "kddcup = pmlb.fetch_data('kddcup')\n",
    "mushroom = pmlb.fetch_data('mushroom')\n",
    "mfeat_pixel = pmlb.fetch_data('mfeat_pixel')\n",
    "poker  = pmlb.fetch_data('poker')"
   ]
  },
  {
   "cell_type": "code",
   "execution_count": null,
   "metadata": {},
   "outputs": [
    {
     "name": "stdout",
     "output_type": "stream",
     "text": [
      "Tempo: 6.0469 s \n"
     ]
    }
   ],
   "source": [
    "X_, y_ = split_data(adult_data)\n",
    "\n",
    "time_init = perf_counter()\n",
    "generator = mMAR(X=X_, y=y_)\n",
    "gen_md = generator.median(missing_rate=20)\n",
    "\n",
    "time_end = perf_counter()\n",
    "print(f\"Tempo: {round(time_end-time_init,4)} s \")"
   ]
  },
  {
   "cell_type": "markdown",
   "metadata": {},
   "source": [
    "- Parallelization:"
   ]
  },
  {
   "cell_type": "code",
   "execution_count": null,
   "metadata": {},
   "outputs": [],
   "source": [
    "import os \n",
    "X_, y_ = split_data(adult_data)\n",
    "\n",
    "time_init = perf_counter()\n",
    "generator = mMAR(X=X_, y=y_, n_Threads=os.cpu_count())\n",
    "gen_md = generator.median(missing_rate=20)\n",
    "\n",
    "time_end = perf_counter()\n",
    "print(f\"Tempo: {round(time_end-time_init,4)} s \")"
   ]
  }
 ],
 "metadata": {
  "kernelspec": {
   "display_name": "Python 3",
   "language": "python",
   "name": "python3"
  },
  "language_info": {
   "codemirror_mode": {
    "name": "ipython",
    "version": 3
   },
   "file_extension": ".py",
   "mimetype": "text/x-python",
   "name": "python",
   "nbconvert_exporter": "python",
   "pygments_lexer": "ipython3",
   "version": "3.11.0"
  }
 },
 "nbformat": 4,
 "nbformat_minor": 2
}
