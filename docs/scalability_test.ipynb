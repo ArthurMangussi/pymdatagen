{
 "cells": [
  {
   "cell_type": "markdown",
   "metadata": {},
   "source": [
    "## Testando"
   ]
  },
  {
   "cell_type": "code",
   "execution_count": 4,
   "metadata": {},
   "outputs": [
    {
     "data": {
      "text/plain": [
       "'0.1.66'"
      ]
     },
     "execution_count": 4,
     "metadata": {},
     "output_type": "execute_result"
    }
   ],
   "source": [
    "import mdatagen\n",
    "\n",
    "mdatagen.__version__"
   ]
  },
  {
   "cell_type": "code",
   "execution_count": 5,
   "metadata": {},
   "outputs": [],
   "source": [
    "import numpy as np \n",
    "import pmlb\n",
    "from mdatagen.multivariate.mMNAR import mMNAR\n",
    "from time import perf_counter\n",
    "\n",
    "def split_data(data):\n",
    "    df = data.copy()\n",
    "    X = df.drop(columns=[\"target\"])\n",
    "    y = data[\"target\"]\n",
    "\n",
    "    return X,np.array(y)\n",
    "\n",
    "adult_data = pmlb.fetch_data('adult')\n",
    "kddcup = pmlb.fetch_data('kddcup')\n",
    "mushroom = pmlb.fetch_data('mushroom')\n",
    "mfeat_pixel = pmlb.fetch_data('mfeat_pixel')\n",
    "poker  = pmlb.fetch_data('poker')"
   ]
  },
  {
   "cell_type": "code",
   "execution_count": 6,
   "metadata": {},
   "outputs": [
    {
     "ename": "ValueError",
     "evalue": "all keys need to be the same shape",
     "output_type": "error",
     "traceback": [
      "\u001b[1;31m---------------------------------------------------------------------------\u001b[0m",
      "\u001b[1;31mValueError\u001b[0m                                Traceback (most recent call last)",
      "Cell \u001b[1;32mIn[6], line 5\u001b[0m\n\u001b[0;32m      3\u001b[0m time_init \u001b[38;5;241m=\u001b[39m perf_counter()\n\u001b[0;32m      4\u001b[0m generator \u001b[38;5;241m=\u001b[39m mMNAR(X\u001b[38;5;241m=\u001b[39mX_, y\u001b[38;5;241m=\u001b[39my_)\n\u001b[1;32m----> 5\u001b[0m gen_md \u001b[38;5;241m=\u001b[39m generator\u001b[38;5;241m.\u001b[39mcorrelated(missing_rate\u001b[38;5;241m=\u001b[39m\u001b[38;5;241m45\u001b[39m)\n\u001b[0;32m      7\u001b[0m time_end \u001b[38;5;241m=\u001b[39m perf_counter()\n\u001b[0;32m      8\u001b[0m \u001b[38;5;28mprint\u001b[39m(\u001b[38;5;124mf\u001b[39m\u001b[38;5;124m\"\u001b[39m\u001b[38;5;124mTempo: \u001b[39m\u001b[38;5;132;01m{\u001b[39;00m\u001b[38;5;28mround\u001b[39m(time_end\u001b[38;5;241m-\u001b[39mtime_init,\u001b[38;5;241m4\u001b[39m)\u001b[38;5;132;01m}\u001b[39;00m\u001b[38;5;124m s \u001b[39m\u001b[38;5;124m\"\u001b[39m)\n",
      "File \u001b[1;32mD:\\Lib\\site-packages\\mdatagen\\multivariate\\mMNAR.py:198\u001b[0m, in \u001b[0;36mmMNAR.correlated\u001b[1;34m(self, missing_rate, deterministic)\u001b[0m\n\u001b[0;32m    192\u001b[0m     pos_xmiss \u001b[38;5;241m=\u001b[39m FeatureChoice\u001b[38;5;241m.\u001b[39mmiss_locations(\n\u001b[0;32m    193\u001b[0m     ordered_id, \u001b[38;5;28mself\u001b[39m\u001b[38;5;241m.\u001b[39mthreshold, N\n\u001b[0;32m    194\u001b[0m )\n\u001b[0;32m    196\u001b[0m \u001b[38;5;28;01melse\u001b[39;00m:\n\u001b[0;32m    197\u001b[0m     \u001b[38;5;66;03m# Unobserved random feature\u001b[39;00m\n\u001b[1;32m--> 198\u001b[0m     ordered_id \u001b[38;5;241m=\u001b[39m np\u001b[38;5;241m.\u001b[39mlexsort((np\u001b[38;5;241m.\u001b[39mrandom\u001b[38;5;241m.\u001b[39mrandom(x_f\u001b[38;5;241m.\u001b[39msize), x_f))\n\u001b[0;32m    199\u001b[0m     pos_xmiss \u001b[38;5;241m=\u001b[39m FeatureChoice\u001b[38;5;241m.\u001b[39mmiss_locations(\n\u001b[0;32m    200\u001b[0m     ordered_id, \u001b[38;5;28mself\u001b[39m\u001b[38;5;241m.\u001b[39mthreshold, N\n\u001b[0;32m    201\u001b[0m )\n\u001b[0;32m    203\u001b[0m \u001b[38;5;28mself\u001b[39m\u001b[38;5;241m.\u001b[39mdataset\u001b[38;5;241m.\u001b[39mloc[pos_xmiss, x_miss] \u001b[38;5;241m=\u001b[39m np\u001b[38;5;241m.\u001b[39mnan\n",
      "\u001b[1;31mValueError\u001b[0m: all keys need to be the same shape"
     ]
    }
   ],
   "source": [
    "X_, y_ = split_data(kddcup)\n",
    "\n",
    "time_init = perf_counter()\n",
    "generator = mMNAR(X=X_, y=y_)\n",
    "gen_md = generator.correlated(missing_rate=45)\n",
    "\n",
    "time_end = perf_counter()\n",
    "print(f\"Tempo: {round(time_end-time_init,4)} s \")"
   ]
  },
  {
   "cell_type": "code",
   "execution_count": null,
   "metadata": {},
   "outputs": [],
   "source": []
  }
 ],
 "metadata": {
  "kernelspec": {
   "display_name": "Python 3",
   "language": "python",
   "name": "python3"
  },
  "language_info": {
   "codemirror_mode": {
    "name": "ipython",
    "version": 3
   },
   "file_extension": ".py",
   "mimetype": "text/x-python",
   "name": "python",
   "nbconvert_exporter": "python",
   "pygments_lexer": "ipython3",
   "version": "3.11.0"
  }
 },
 "nbformat": 4,
 "nbformat_minor": 2
}
