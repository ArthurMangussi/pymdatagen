{
 "cells": [
  {
   "cell_type": "markdown",
   "metadata": {},
   "source": [
    "A basic example of generate artificial missing data with mdatagen library with the Iris dataset from scikit-learn.\n",
    "The most correlated feature with label will receive the missing values under Missing Not at Random (MNAR) mechanism.\n",
    "The simulated missing rate is 10% (default). The method to choose missing values is lowest."
   ]
  },
  {
   "cell_type": "code",
   "execution_count": 1,
   "metadata": {},
   "outputs": [
    {
     "name": "stdout",
     "output_type": "stream",
     "text": [
      "sepal length (cm)     0\n",
      "sepal width (cm)      0\n",
      "petal length (cm)     0\n",
      "petal width (cm)     15\n",
      "target                0\n",
      "dtype: int64\n"
     ]
    }
   ],
   "source": [
    "import pandas as pd\n",
    "from sklearn.datasets import load_iris\n",
    "\n",
    "from mdatagen.univariate.uMNAR import uMNAR\n",
    "\n",
    "# Load the data\n",
    "iris = load_iris()\n",
    "iris_df = pd.DataFrame(data=iris.data, columns=iris.feature_names)\n",
    "\n",
    "X = iris_df.copy()   # Features\n",
    "y = iris.target    # Label values\n",
    "\n",
    "# Create a instance with missing rate equal to 10% in dataset under MNAR mechanism\n",
    "generator = uMNAR(X=X, y=y, threshold=0)\n",
    "\n",
    "# Generate the missing data under MNAR mechanism\n",
    "generate_data = generator.run()\n",
    "print(generate_data.isna().sum())"
   ]
  },
  {
   "cell_type": "code",
   "execution_count": null,
   "metadata": {},
   "outputs": [],
   "source": []
  }
 ],
 "metadata": {
  "kernelspec": {
   "display_name": "Python 3",
   "language": "python",
   "name": "python3"
  },
  "language_info": {
   "codemirror_mode": {
    "name": "ipython",
    "version": 3
   },
   "file_extension": ".py",
   "mimetype": "text/x-python",
   "name": "python",
   "nbconvert_exporter": "python",
   "pygments_lexer": "ipython3",
   "version": "3.11.0"
  }
 },
 "nbformat": 4,
 "nbformat_minor": 2
}
