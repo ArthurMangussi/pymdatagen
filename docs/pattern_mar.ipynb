{
 "cells": [
  {
   "cell_type": "markdown",
   "metadata": {},
   "source": [
    "This notebook demonstrates how to generate missing data using the pattern-based multivariate amputation module available in the mdatagen package. This module is a wrapper around the pyampute package and addresses key challenges in generating artificial missing data under the MAR (Missing At Random) mechanism.\n",
    "\n",
    "In addition, an excellent video lesson is available on YouTube at the following link:\n",
    "📺 https://youtu.be/jMEzKFV-ilc?si=bVQ-kYjOelAqdN0h"
   ]
  },
  {
   "cell_type": "code",
   "execution_count": null,
   "metadata": {},
   "outputs": [
    {
     "name": "stdout",
     "output_type": "stream",
     "text": [
      "sepal length (cm)     0\n",
      "sepal width (cm)      0\n",
      "petal length (cm)    38\n",
      "petal width (cm)      0\n",
      "target                0\n",
      "dtype: int64\n"
     ]
    }
   ],
   "source": [
    "# Import the libraries\n",
    "import numpy as np \n",
    "import pmlb\n",
    "from mdatagen.multivariate import mMAR\n",
    "from mdatagen.plots import PlotMissingData\n",
    "\n",
    "# Function to help split data\n",
    "def split_data(data):\n",
    "    df = data.copy()\n",
    "    X = df.drop(columns=[\"target\"])\n",
    "    y = data[\"target\"]\n",
    "\n",
    "    return X,np.array(y)\n",
    "\n",
    "# The data from PMLB\n",
    "kddcup = pmlb.fetch_data('kddcup')\n",
    "X_, y_ = split_data(kddcup)\n",
    "\n",
    "generator = mMAR(X=X_, y=y_,n_Threads=1)\n",
    "gen_md = generator.pattern_missingness()"
   ]
  },
  {
   "cell_type": "code",
   "execution_count": null,
   "metadata": {},
   "outputs": [],
   "source": [
    "miss_plot = PlotMissingData(data_missing=gen_md, \n",
    "                            data_original=X_)\n",
    "\n",
    "miss_plot.visualize_miss(\"normal\", save=False)"
   ]
  }
 ],
 "metadata": {
  "kernelspec": {
   "display_name": "Python 3",
   "language": "python",
   "name": "python3"
  },
  "language_info": {
   "codemirror_mode": {
    "name": "ipython",
    "version": 3
   },
   "file_extension": ".py",
   "mimetype": "text/x-python",
   "name": "python",
   "nbconvert_exporter": "python",
   "pygments_lexer": "ipython3",
   "version": "3.11.0"
  }
 },
 "nbformat": 4,
 "nbformat_minor": 2
}
