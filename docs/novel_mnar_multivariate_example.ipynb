{
 "cells": [
  {
   "cell_type": "markdown",
   "metadata": {},
   "source": [
    "A novel example of generate artificial missing data with mdatagen library with the Breast Cancer Wiscosin dataset\n",
    "from scikit-learn. The features will receive the missing values under\n",
    "Missing Not at Random (MNAR) mechanism. The simulated missing rate is 20%.\n",
    "The method to choose missing values is Missingness Based on Own and Unobserved Values (MBOUV)."
   ]
  },
  {
   "cell_type": "code",
   "execution_count": 1,
   "metadata": {},
   "outputs": [
    {
     "name": "stdout",
     "output_type": "stream",
     "text": [
      "mean radius                166\n",
      "mean texture                61\n",
      "mean perimeter              35\n",
      "mean area                  148\n",
      "mean smoothness            156\n",
      "mean compactness           161\n",
      "mean concavity             112\n",
      "mean concave points        171\n",
      "mean symmetry               93\n",
      "mean fractal dimension     110\n",
      "radius error                74\n",
      "texture error              160\n",
      "perimeter error             82\n",
      "area error                  63\n",
      "smoothness error           160\n",
      "compactness error          152\n",
      "concavity error             99\n",
      "concave points error       143\n",
      "symmetry error             171\n",
      "fractal dimension error      1\n",
      "worst radius               170\n",
      "worst texture              159\n",
      "worst perimeter              4\n",
      "worst area                 170\n",
      "worst smoothness            51\n",
      "worst compactness          148\n",
      "worst concavity             42\n",
      "worst concave points       126\n",
      "worst symmetry              78\n",
      "worst fractal dimension    148\n",
      "target                       0\n",
      "dtype: int64\n"
     ]
    }
   ],
   "source": [
    "# Import the libraries\n",
    "import pandas as pd\n",
    "from sklearn.datasets import load_breast_cancer\n",
    "\n",
    "from mdatagen.multivariate.mMNAR import mMNAR\n",
    "\n",
    "# Load the data\n",
    "wiscosin = load_breast_cancer()\n",
    "wiscosin_df = pd.DataFrame(data=wiscosin.data, columns=wiscosin.feature_names)\n",
    "\n",
    "X = wiscosin_df.copy()   # Features\n",
    "y = wiscosin.target    # Label values\n",
    "\n",
    "# Create a instance with missing rate equal to 20% in dataset under MNAR mechanism\n",
    "generator = mMNAR(X=X, y=y)\n",
    "\n",
    "# Generate the missing data under MNAR mechanism\n",
    "generate_data = generator.MBOUV(missing_rate=20, depend_on_external=X.columns)\n",
    "print(generate_data.isna().sum())"
   ]
  },
  {
   "cell_type": "code",
   "execution_count": null,
   "metadata": {},
   "outputs": [],
   "source": []
  }
 ],
 "metadata": {
  "kernelspec": {
   "display_name": "Python 3",
   "language": "python",
   "name": "python3"
  },
  "language_info": {
   "codemirror_mode": {
    "name": "ipython",
    "version": 3
   },
   "file_extension": ".py",
   "mimetype": "text/x-python",
   "name": "python",
   "nbconvert_exporter": "python",
   "pygments_lexer": "ipython3",
   "version": "3.11.0"
  }
 },
 "nbformat": 4,
 "nbformat_minor": 2
}
