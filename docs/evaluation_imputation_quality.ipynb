{
 "cells": [
  {
   "cell_type": "markdown",
   "metadata": {},
   "source": [
    "A basic example of generate artificial missing data with mdatagen library with the Iris dataset from scikit-learn.\n",
    "The feature petal length will receive the missing values under Missing Completly at Random (MCAR) mechanism.\n",
    "The simulated missing rate is 25%. The method to choose missing values is random. Our example fills the missing\n",
    "values with zero and evaluted the imputation quality with Mean Squared Error (MSE)."
   ]
  },
  {
   "cell_type": "code",
   "execution_count": null,
   "metadata": {},
   "outputs": [],
   "source": [
    "# Import the libraries\n",
    "import pandas as pd\n",
    "from sklearn.datasets import load_iris\n",
    "\n",
    "from mdatagen.univariate.uMCAR import uMCAR\n",
    "from mdatagen.metrics import EvaluateImputation\n",
    "\n",
    "# Load the data\n",
    "iris = load_iris()\n",
    "iris_df = pd.DataFrame(data=iris.data, columns=iris.feature_names)\n",
    "\n",
    "X = iris_df.copy()   # Features\n",
    "y = iris.target    # Label values\n",
    "\n",
    "# Create a instance with missing rate equal to 25% in dataset under MCAR mechanism\n",
    "generator = uMCAR(X=X, y=y, missing_rate=25, x_miss='petal length (cm)')\n",
    "\n",
    "# Generate the missing data under MNAR mechanism\n",
    "generate_data = generator.random()\n",
    "\n",
    "eval_metric = EvaluateImputation(data_imputed=generate_data.drop(\"target\",axis=1).fillna(0),\n",
    "                                    data_original=X,\n",
    "                                    metric=\"mean_squared_error\")\n",
    "print(eval_metric.show())"
   ]
  }
 ],
 "metadata": {
  "language_info": {
   "name": "python"
  }
 },
 "nbformat": 4,
 "nbformat_minor": 2
}
